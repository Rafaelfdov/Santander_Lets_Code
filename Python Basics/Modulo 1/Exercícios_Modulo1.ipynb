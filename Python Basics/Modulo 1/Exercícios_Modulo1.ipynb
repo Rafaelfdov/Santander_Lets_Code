{
 "cells": [
  {
   "cell_type": "markdown",
   "id": "171ed17b",
   "metadata": {},
   "source": [
    "# Exercícios Módulo 1 - Python"
   ]
  },
  {
   "cell_type": "markdown",
   "id": "946c5827",
   "metadata": {},
   "source": [
    "**1 - Faça um programa que peça um valor monetário e diminua-o em 15%. Seu\n",
    "programa deve imprimir a mensagem “O novo valor é [valor]”.**"
   ]
  },
  {
   "cell_type": "code",
   "execution_count": 8,
   "id": "f9b21e0e",
   "metadata": {
    "scrolled": false
   },
   "outputs": [
    {
     "name": "stdout",
     "output_type": "stream",
     "text": [
      "Digite um valor monetário: 250\n",
      "O novo valor é  287.5\n"
     ]
    }
   ],
   "source": [
    "Valor_atual = float(input('Digite um valor monetário: '))\n",
    "Valor_atual += Valor_atual * 0.15\n",
    "print('O novo valor é ', Valor_atual)"
   ]
  },
  {
   "cell_type": "markdown",
   "id": "ac1434b9",
   "metadata": {},
   "source": [
    "**2 - Faça um programa que leia a validade das informações:**\n",
    "\n",
    "**a. Idade: entre 0 e 150;**\n",
    "\n",
    "**b. Salário: maior que 0;**\n",
    "\n",
    "**c. Sexo: M, F ou Outro;**\n",
    "\n",
    "**O programa deve imprimir uma mensagem de erro para cada informação\n",
    "inválida.**\n"
   ]
  },
  {
   "cell_type": "code",
   "execution_count": 26,
   "id": "15d4fc33",
   "metadata": {},
   "outputs": [
    {
     "name": "stdout",
     "output_type": "stream",
     "text": [
      "Digite sua idade entre: 25\n",
      "Digite seu salário: 1000\n",
      "Digite seu sexo, M, F ou outro: sim\n",
      "Sua idade é de  25\n",
      "Sua salário é de  1000.0\n",
      "Erro, sexo informado não reconhecido\n"
     ]
    }
   ],
   "source": [
    "idade = int(input('Digite sua idade entre: '))\n",
    "salario = float(input('Digite seu salário: '))\n",
    "sexo = str(input('Digite seu sexo, M, F ou outro: '))\n",
    "\n",
    "if (idade > 150):\n",
    "    print('Erro, idade maior que a permitida')\n",
    "else:\n",
    "    print('Sua idade é de ', idade)\n",
    "if (salario <=0):\n",
    "    print('Erro, salario menor que o permitido')\n",
    "else:\n",
    "    print('Sua salário é de ', salario)\n",
    "if (sexo == 'M') or (sexo == 'F') or (sexo == 'outro'):\n",
    "    print('Seu sexo é ', sexo)\n",
    "else:\n",
    "    print('Erro, sexo informado não reconhecido')\n"
   ]
  },
  {
   "cell_type": "markdown",
   "id": "eeec49e4",
   "metadata": {},
   "source": [
    "**3. Vamos fazer um programa para verificar quem é o assassino de um crime.\n",
    "Para descobrir o assassino, a polícia faz um pequeno questionário com 5\n",
    "perguntas onde a resposta só pode ser sim ou não:**\n",
    "\n",
    "**a. Mora perto da vítima?**\n",
    "\n",
    "**b. Já trabalhou com a vítima?**\n",
    "\n",
    "**c. Telefonou para a vítima?**\n",
    "\n",
    "**d. Esteve no local do crime?**\n",
    "\n",
    "**e. Devia para a vítima?**\n",
    "\n",
    "**Cada resposta sim dá um ponto para o suspeito. A polícia considera que os\n",
    "suspeitos com 5 pontos são os assassinos, com 4 a 3 pontos são cúmplices e\n",
    "2 pontos são apenas suspeitos, necessitando outras investigações. Valores\n",
    "iguais ou abaixo de 1 são liberados.**\n"
   ]
  },
  {
   "cell_type": "code",
   "execution_count": null,
   "id": "76eccf1c",
   "metadata": {
    "scrolled": true
   },
   "outputs": [],
   "source": [
    "local = input('Mora perto da vítima, responda com S ou N ?')\n",
    "trabalho = input('Já trabalhou com a vítima, responda com S ou N ?')\n",
    "telefone = input('telefonou para a vítima, responda com S ou N ?')\n",
    "local_crime = input('Esteve no local do crime, responda com S ou N ?')\n",
    "divida = input('Devia para a vítima, responda com S ou N ?')\n",
    "valor_final = 0\n",
    "if (local == 'S'):\n",
    "    valor_final += 1\n",
    "if (trabalho == 'S'):\n",
    "    valor_final += 1\n",
    "if (telefone == 'S'):\n",
    "    valor_final += 1\n",
    "if (local_crime == 'S'):\n",
    "    valor_final += 1\n",
    "if (divida == 'S'):\n",
    "    valor_final += 1\n",
    "    \n",
    "if (valor_final < 2):\n",
    "    print('Você está liberado')\n",
    "elif (valor_final < 3):\n",
    "    print('Você é suspeito')\n",
    "elif (valor_final < 5):\n",
    "    print('Você é cúmplice')\n",
    "else:\n",
    "    print('Você é o asssasino')\n",
    "    \n"
   ]
  },
  {
   "cell_type": "markdown",
   "id": "170f84b2",
   "metadata": {},
   "source": [
    "**4 - Faça um programa que imprima a tabuada do 9 (de 9*1 a 9*10) usando loops.**"
   ]
  },
  {
   "cell_type": "code",
   "execution_count": 18,
   "id": "d17d9b3e",
   "metadata": {},
   "outputs": [
    {
     "name": "stdout",
     "output_type": "stream",
     "text": [
      "Digite o número da tubuado: 91\n",
      "9 + 91 = 100\n",
      "9 + 100 = 109\n",
      "9 + 109 = 118\n",
      "9 + 118 = 127\n",
      "9 + 127 = 136\n",
      "9 + 136 = 145\n",
      "9 + 145 = 154\n",
      "9 + 154 = 163\n",
      "9 + 163 = 172\n",
      "9 + 172 = 181\n",
      "9 + 181 = 190\n",
      "9 + 190 = 199\n",
      "9 + 199 = 208\n",
      "9 + 208 = 217\n",
      "9 + 217 = 226\n",
      "9 + 226 = 235\n",
      "9 + 235 = 244\n",
      "9 + 244 = 253\n",
      "9 + 253 = 262\n",
      "9 + 262 = 271\n",
      "9 + 271 = 280\n",
      "9 + 280 = 289\n",
      "9 + 289 = 298\n",
      "9 + 298 = 307\n",
      "9 + 307 = 316\n",
      "9 + 316 = 325\n",
      "9 + 325 = 334\n",
      "9 + 334 = 343\n",
      "9 + 343 = 352\n",
      "9 + 352 = 361\n",
      "9 + 361 = 370\n",
      "9 + 370 = 379\n",
      "9 + 379 = 388\n",
      "9 + 388 = 397\n",
      "9 + 397 = 406\n",
      "9 + 406 = 415\n",
      "9 + 415 = 424\n",
      "9 + 424 = 433\n",
      "9 + 433 = 442\n",
      "9 + 442 = 451\n",
      "9 + 451 = 460\n",
      "9 + 460 = 469\n",
      "9 + 469 = 478\n",
      "9 + 478 = 487\n",
      "9 + 487 = 496\n",
      "9 + 496 = 505\n",
      "9 + 505 = 514\n",
      "9 + 514 = 523\n",
      "9 + 523 = 532\n",
      "9 + 532 = 541\n",
      "9 + 541 = 550\n",
      "9 + 550 = 559\n",
      "9 + 559 = 568\n",
      "9 + 568 = 577\n",
      "9 + 577 = 586\n",
      "9 + 586 = 595\n",
      "9 + 595 = 604\n",
      "9 + 604 = 613\n",
      "9 + 613 = 622\n",
      "9 + 622 = 631\n",
      "9 + 631 = 640\n",
      "9 + 640 = 649\n",
      "9 + 649 = 658\n",
      "9 + 658 = 667\n",
      "9 + 667 = 676\n",
      "9 + 676 = 685\n",
      "9 + 685 = 694\n",
      "9 + 694 = 703\n",
      "9 + 703 = 712\n",
      "9 + 712 = 721\n",
      "9 + 721 = 730\n",
      "9 + 730 = 739\n",
      "9 + 739 = 748\n",
      "9 + 748 = 757\n",
      "9 + 757 = 766\n",
      "9 + 766 = 775\n",
      "9 + 775 = 784\n",
      "9 + 784 = 793\n",
      "9 + 793 = 802\n",
      "9 + 802 = 811\n",
      "9 + 811 = 820\n",
      "9 + 820 = 829\n",
      "9 + 829 = 838\n",
      "9 + 838 = 847\n",
      "9 + 847 = 856\n",
      "9 + 856 = 865\n",
      "9 + 865 = 874\n",
      "9 + 874 = 883\n",
      "9 + 883 = 892\n",
      "9 + 892 = 901\n",
      "9 + 901 = 910\n",
      "Fim da Tabuada\n"
     ]
    }
   ],
   "source": [
    "contador = int(input('Digite o número da tubuado: '))\n",
    "\n",
    "while contador <= 901:\n",
    "    contador = contador + 9\n",
    "    print('9', '+', contador - 9, '=', contador)\n",
    "    \n",
    "print('Fim da Tabuada')"
   ]
  },
  {
   "cell_type": "code",
   "execution_count": null,
   "id": "4d60f43d",
   "metadata": {},
   "outputs": [],
   "source": [
    "\n"
   ]
  },
  {
   "cell_type": "code",
   "execution_count": null,
   "id": "e524ab6f",
   "metadata": {},
   "outputs": [],
   "source": []
  }
 ],
 "metadata": {
  "kernelspec": {
   "display_name": "Python 3 (ipykernel)",
   "language": "python",
   "name": "python3"
  },
  "language_info": {
   "codemirror_mode": {
    "name": "ipython",
    "version": 3
   },
   "file_extension": ".py",
   "mimetype": "text/x-python",
   "name": "python",
   "nbconvert_exporter": "python",
   "pygments_lexer": "ipython3",
   "version": "3.9.12"
  }
 },
 "nbformat": 4,
 "nbformat_minor": 5
}

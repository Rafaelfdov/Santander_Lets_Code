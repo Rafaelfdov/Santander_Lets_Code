{
 "cells": [
  {
   "cell_type": "code",
   "execution_count": 47,
   "id": "9a98f186",
   "metadata": {},
   "outputs": [
    {
     "name": "stdout",
     "output_type": "stream",
     "text": [
      "['Brasil', 'Argentina', 'China', 'Canada', 'Japão']\n"
     ]
    }
   ],
   "source": [
    "nomes_paises = ['Brasil', 'Argentina', 'China', 'Canada', 'Japão']\n",
    "print(nomes_paises)"
   ]
  },
  {
   "cell_type": "code",
   "execution_count": 48,
   "id": "5e90e7a2",
   "metadata": {},
   "outputs": [
    {
     "name": "stdout",
     "output_type": "stream",
     "text": [
      "Tamanho da lista: 5\n"
     ]
    }
   ],
   "source": [
    "print('Tamanho da lista:', len(nomes_paises))"
   ]
  },
  {
   "cell_type": "code",
   "execution_count": 49,
   "id": "0464390c",
   "metadata": {},
   "outputs": [
    {
     "name": "stdout",
     "output_type": "stream",
     "text": [
      "País Japão\n"
     ]
    }
   ],
   "source": [
    "print('País', nomes_paises[4])"
   ]
  },
  {
   "cell_type": "code",
   "execution_count": 50,
   "id": "83d7d717",
   "metadata": {},
   "outputs": [
    {
     "name": "stdout",
     "output_type": "stream",
     "text": [
      "País Japão\n"
     ]
    }
   ],
   "source": [
    "print('País', nomes_paises[-1])"
   ]
  },
  {
   "cell_type": "code",
   "execution_count": 51,
   "id": "0230802e",
   "metadata": {},
   "outputs": [
    {
     "name": "stdout",
     "output_type": "stream",
     "text": [
      "['Brasil', 'Argentina', 'China', 'Canada', 'Colombia']\n"
     ]
    }
   ],
   "source": [
    "nomes_paises[4] = 'Colombia'\n",
    "print(nomes_paises)"
   ]
  },
  {
   "cell_type": "code",
   "execution_count": 52,
   "id": "4cb6c17f",
   "metadata": {},
   "outputs": [],
   "source": [
    "nomes_paises.append('Chile')"
   ]
  },
  {
   "cell_type": "code",
   "execution_count": 53,
   "id": "793c7adb",
   "metadata": {},
   "outputs": [
    {
     "name": "stdout",
     "output_type": "stream",
     "text": [
      "['Brasil', 'Argentina', 'China', 'Canada', 'Colombia', 'Chile']\n"
     ]
    }
   ],
   "source": [
    "print(nomes_paises)"
   ]
  },
  {
   "cell_type": "code",
   "execution_count": 54,
   "id": "38a4c49c",
   "metadata": {},
   "outputs": [
    {
     "name": "stdout",
     "output_type": "stream",
     "text": [
      "['Argentina', 'China']\n"
     ]
    }
   ],
   "source": [
    "print(nomes_paises[1:3])"
   ]
  },
  {
   "cell_type": "code",
   "execution_count": 55,
   "id": "6b5ce22a",
   "metadata": {},
   "outputs": [
    {
     "name": "stdout",
     "output_type": "stream",
     "text": [
      "['Argentina', 'China', 'Canada', 'Colombia']\n"
     ]
    }
   ],
   "source": [
    "print(nomes_paises[1:-1])"
   ]
  },
  {
   "cell_type": "code",
   "execution_count": 56,
   "id": "d2f55149",
   "metadata": {},
   "outputs": [
    {
     "name": "stdout",
     "output_type": "stream",
     "text": [
      "True\n"
     ]
    }
   ],
   "source": [
    "print('Brasil' in nomes_paises)"
   ]
  },
  {
   "cell_type": "code",
   "execution_count": 57,
   "id": "2c009122",
   "metadata": {},
   "outputs": [
    {
     "name": "stdout",
     "output_type": "stream",
     "text": [
      "False\n"
     ]
    }
   ],
   "source": [
    "print('Brasil' not in nomes_paises)"
   ]
  },
  {
   "cell_type": "code",
   "execution_count": 58,
   "id": "00624bd1",
   "metadata": {},
   "outputs": [],
   "source": [
    "lista_capitais = []"
   ]
  },
  {
   "cell_type": "code",
   "execution_count": 59,
   "id": "fe0f13ae",
   "metadata": {},
   "outputs": [],
   "source": [
    "lista_capitais.append('Brasilia')"
   ]
  },
  {
   "cell_type": "code",
   "execution_count": 60,
   "id": "1f6b2730",
   "metadata": {},
   "outputs": [],
   "source": [
    "lista_capitais.append('Buenos Aires')\n",
    "lista_capitais.append('Pequim')"
   ]
  },
  {
   "cell_type": "code",
   "execution_count": 61,
   "id": "83f6954f",
   "metadata": {},
   "outputs": [],
   "source": [
    "lista_capitais.insert(2, 'Paris')"
   ]
  },
  {
   "cell_type": "code",
   "execution_count": 62,
   "id": "989e86bf",
   "metadata": {},
   "outputs": [
    {
     "name": "stdout",
     "output_type": "stream",
     "text": [
      "['Brasilia', 'Buenos Aires', 'Paris', 'Pequim']\n"
     ]
    }
   ],
   "source": [
    "print(lista_capitais)"
   ]
  },
  {
   "cell_type": "code",
   "execution_count": 63,
   "id": "52db6edd",
   "metadata": {},
   "outputs": [
    {
     "data": {
      "text/plain": [
       "'Pequim'"
      ]
     },
     "execution_count": 63,
     "metadata": {},
     "output_type": "execute_result"
    }
   ],
   "source": [
    "lista_capitais.pop()"
   ]
  },
  {
   "cell_type": "code",
   "execution_count": 64,
   "id": "9d4edbb0",
   "metadata": {},
   "outputs": [],
   "source": [
    "nomes_paises = 'Brasilia', 'Buenos Aires', 'Paris', 'Pequim'"
   ]
  },
  {
   "cell_type": "code",
   "execution_count": 65,
   "id": "f37db009",
   "metadata": {},
   "outputs": [
    {
     "name": "stdout",
     "output_type": "stream",
     "text": [
      "<class 'tuple'>\n"
     ]
    }
   ],
   "source": [
    "print(type(nomes_paises))"
   ]
  },
  {
   "cell_type": "code",
   "execution_count": 66,
   "id": "e473337f",
   "metadata": {},
   "outputs": [],
   "source": [
    "nome_estado = 'São Paulo',"
   ]
  },
  {
   "cell_type": "code",
   "execution_count": 67,
   "id": "2f69f75d",
   "metadata": {},
   "outputs": [
    {
     "data": {
      "text/plain": [
       "tuple"
      ]
     },
     "execution_count": 67,
     "metadata": {},
     "output_type": "execute_result"
    }
   ],
   "source": [
    "type(nome_estado)"
   ]
  },
  {
   "cell_type": "code",
   "execution_count": 68,
   "id": "6a08e5b9",
   "metadata": {},
   "outputs": [
    {
     "name": "stdout",
     "output_type": "stream",
     "text": [
      "Brasilia Buenos Aires Paris Pequim\n"
     ]
    }
   ],
   "source": [
    "print(*nomes_paises)"
   ]
  },
  {
   "cell_type": "code",
   "execution_count": 69,
   "id": "ccbf58f0",
   "metadata": {},
   "outputs": [],
   "source": [
    "b, bu, a, p = nomes_paises"
   ]
  },
  {
   "cell_type": "code",
   "execution_count": 70,
   "id": "bb60662c",
   "metadata": {
    "scrolled": true
   },
   "outputs": [
    {
     "name": "stdout",
     "output_type": "stream",
     "text": [
      "\n",
      " Brasilia \n",
      " Buenos Aires \n",
      " Paris \n",
      " Pequim\n"
     ]
    }
   ],
   "source": [
    "print(\"\\n\", b, \"\\n\", bu, \"\\n\", a, \"\\n\", p)"
   ]
  },
  {
   "cell_type": "code",
   "execution_count": 71,
   "id": "2cb84d20",
   "metadata": {},
   "outputs": [],
   "source": [
    "lista = [i for i in range(10)]"
   ]
  },
  {
   "cell_type": "code",
   "execution_count": 72,
   "id": "d1ebc03c",
   "metadata": {},
   "outputs": [
    {
     "data": {
      "text/plain": [
       "[0, 1, 2, 3, 4, 5, 6, 7, 8, 9]"
      ]
     },
     "execution_count": 72,
     "metadata": {},
     "output_type": "execute_result"
    }
   ],
   "source": [
    "lista"
   ]
  },
  {
   "cell_type": "code",
   "execution_count": 73,
   "id": "c495e3a8",
   "metadata": {},
   "outputs": [
    {
     "data": {
      "text/plain": [
       "['São Paulo', 'Belo Horizonte', 'Rio de Janeiro', 'Brasília']"
      ]
     },
     "execution_count": 73,
     "metadata": {},
     "output_type": "execute_result"
    }
   ],
   "source": [
    "nomes_cidades = \"São Paulo, Belo Horizonte, Rio de Janeiro, Brasília\"\n",
    "nomes_cidades = nomes_cidades.split(', ')\n",
    "nomes_cidades"
   ]
  },
  {
   "cell_type": "code",
   "execution_count": 74,
   "id": "7201d2fd",
   "metadata": {},
   "outputs": [
    {
     "data": {
      "text/plain": [
       "list"
      ]
     },
     "execution_count": 74,
     "metadata": {},
     "output_type": "execute_result"
    }
   ],
   "source": [
    "type(nomes_cidades)"
   ]
  },
  {
   "cell_type": "code",
   "execution_count": 75,
   "id": "4ae19eea",
   "metadata": {},
   "outputs": [
    {
     "name": "stdout",
     "output_type": "stream",
     "text": [
      "Rio De Janeiro\n",
      "Rio de janeiro\n",
      "rio de janeiro\n",
      "RIO DE JANEIRO\n",
      "rio de janeiro\n"
     ]
    }
   ],
   "source": [
    "nome_cidade = 'rio de janeiro'\n",
    "\n",
    "print(nome_cidade.title())\n",
    "print(nome_cidade.capitalize())\n",
    "print(nome_cidade.lower())\n",
    "print(nome_cidade.upper())\n",
    "print(nome_cidade.strip())"
   ]
  },
  {
   "cell_type": "code",
   "execution_count": 76,
   "id": "ed391c81",
   "metadata": {},
   "outputs": [
    {
     "name": "stdout",
     "output_type": "stream",
     "text": [
      "Qual cidade do Brasil é conhecida por cidade maravilhosa?rio de janeiro\n",
      "Boa, campeão\n"
     ]
    }
   ],
   "source": [
    "nome_cidade = input('Qual cidade do Brasil é conhecida por cidade maravilhosa?')\n",
    "nome_cidade = nome_cidade.strip()\n",
    "while nome_cidade.lower() != 'rio de janeiro':\n",
    "    print('Tente de novo, você consegue!')\n",
    "    nome_cidade = input('Qual cidade do Brasil é conhecida por cidade maravilhosa?')\n",
    "\n",
    "print('Boa, campeão')\n"
   ]
  },
  {
   "cell_type": "code",
   "execution_count": 77,
   "id": "bce761f4",
   "metadata": {},
   "outputs": [
    {
     "name": "stdout",
     "output_type": "stream",
     "text": [
      "Felipe tem 35 anos e 2 filhos! \n"
     ]
    }
   ],
   "source": [
    "nome ='Felipe'\n",
    "idade = 35\n",
    "n_filhos = 2\n",
    "print(nome + ' tem ' + str(idade) + ' anos e ' + str(n_filhos) + ' filhos! ')"
   ]
  },
  {
   "cell_type": "code",
   "execution_count": 78,
   "id": "0941bec7",
   "metadata": {},
   "outputs": [
    {
     "name": "stdout",
     "output_type": "stream",
     "text": [
      " Felipe tem 35 anos e 2 filhos!\n"
     ]
    }
   ],
   "source": [
    "print(f' {nome} tem {idade} anos e {n_filhos} filhos!')"
   ]
  },
  {
   "cell_type": "code",
   "execution_count": 79,
   "id": "49774774",
   "metadata": {},
   "outputs": [
    {
     "name": "stdout",
     "output_type": "stream",
     "text": [
      " Felipe tem 35 anos e 2 filhos!\n"
     ]
    }
   ],
   "source": [
    "print(' {} tem {} anos e {} filhos!'.format(nome, idade, n_filhos))"
   ]
  },
  {
   "cell_type": "code",
   "execution_count": 80,
   "id": "bd83f34d",
   "metadata": {},
   "outputs": [
    {
     "name": "stdout",
     "output_type": "stream",
     "text": [
      "O preço da gasolina hoje subiu e está em R$ 3.48\n"
     ]
    }
   ],
   "source": [
    "preco_gasolina = 3.476\n",
    "print('O preço da gasolina hoje subiu e está em R$ {:.2f}'.format(preco_gasolina))"
   ]
  },
  {
   "cell_type": "markdown",
   "id": "40f03f85",
   "metadata": {},
   "source": [
    "# Dicionários"
   ]
  },
  {
   "cell_type": "code",
   "execution_count": 81,
   "id": "66af14a4",
   "metadata": {},
   "outputs": [],
   "source": [
    "dados_cidade = {\n",
    "    'nome': 'São Paulo',\n",
    "    'estado': 'São Paulo',\n",
    "    'area_km2': 1521,\n",
    "    'populacao_milhoes':12.18,\n",
    "}"
   ]
  },
  {
   "cell_type": "code",
   "execution_count": 82,
   "id": "6efd9029",
   "metadata": {},
   "outputs": [
    {
     "data": {
      "text/plain": [
       "dict"
      ]
     },
     "execution_count": 82,
     "metadata": {},
     "output_type": "execute_result"
    }
   ],
   "source": [
    "type(dados_cidade)"
   ]
  },
  {
   "cell_type": "code",
   "execution_count": 83,
   "id": "f3c1ee8b",
   "metadata": {},
   "outputs": [
    {
     "data": {
      "text/plain": [
       "{'nome': 'São Paulo',\n",
       " 'estado': 'São Paulo',\n",
       " 'area_km2': 1521,\n",
       " 'populacao_milhoes': 12.18}"
      ]
     },
     "execution_count": 83,
     "metadata": {},
     "output_type": "execute_result"
    }
   ],
   "source": [
    "dados_cidade"
   ]
  },
  {
   "cell_type": "code",
   "execution_count": 84,
   "id": "55ebcfda",
   "metadata": {},
   "outputs": [],
   "source": [
    "dados_cidade['país'] = 'Brasil'"
   ]
  },
  {
   "cell_type": "code",
   "execution_count": 85,
   "id": "291e23b0",
   "metadata": {},
   "outputs": [],
   "source": [
    "dados_cidade['area_km2'] = 1500"
   ]
  },
  {
   "cell_type": "code",
   "execution_count": 86,
   "id": "e4416518",
   "metadata": {},
   "outputs": [
    {
     "name": "stdout",
     "output_type": "stream",
     "text": [
      "{'nome': 'São Paulo', 'estado': 'São Paulo', 'area_km2': 1500, 'populacao_milhoes': 12.18, 'país': 'Brasil'} \n",
      "\n",
      " {'nome': 'Santos', 'estado': 'São Paulo', 'area_km2': 1500, 'populacao_milhoes': 12.18, 'país': 'Brasil'}\n"
     ]
    }
   ],
   "source": [
    "dados_cidade_2 = dados_cidade.copy()\n",
    "dados_cidade_2['nome'] = 'Santos'\n",
    "\n",
    "print(dados_cidade, \"\\n\"\"\\n\", dados_cidade_2)"
   ]
  },
  {
   "cell_type": "code",
   "execution_count": 87,
   "id": "fa2e0e55",
   "metadata": {},
   "outputs": [],
   "source": [
    "novos_dados = {\n",
    "    'populacao_milhoes': 15,\n",
    "    'fundacao': '25/01/1554'\n",
    "}\n",
    "\n",
    "dados_cidade.update(novos_dados)"
   ]
  },
  {
   "cell_type": "code",
   "execution_count": 88,
   "id": "2fd8e821",
   "metadata": {},
   "outputs": [
    {
     "data": {
      "text/plain": [
       "{'nome': 'São Paulo',\n",
       " 'estado': 'São Paulo',\n",
       " 'area_km2': 1500,\n",
       " 'populacao_milhoes': 15,\n",
       " 'país': 'Brasil',\n",
       " 'fundacao': '25/01/1554'}"
      ]
     },
     "execution_count": 88,
     "metadata": {},
     "output_type": "execute_result"
    }
   ],
   "source": [
    "dados_cidade"
   ]
  },
  {
   "cell_type": "code",
   "execution_count": 89,
   "id": "0e13aaea",
   "metadata": {},
   "outputs": [
    {
     "name": "stdout",
     "output_type": "stream",
     "text": [
      "None\n"
     ]
    }
   ],
   "source": [
    "print(dados_cidade.get('prefeito'))"
   ]
  },
  {
   "cell_type": "code",
   "execution_count": 90,
   "id": "126a5af5",
   "metadata": {},
   "outputs": [
    {
     "name": "stdout",
     "output_type": "stream",
     "text": [
      "dict_keys(['nome', 'estado', 'area_km2', 'populacao_milhoes', 'país', 'fundacao'])\n"
     ]
    }
   ],
   "source": [
    "print(dados_cidade.keys()) #retorna uma lista de chaves de um dicionário"
   ]
  },
  {
   "cell_type": "code",
   "execution_count": 91,
   "id": "78e22c6a",
   "metadata": {},
   "outputs": [
    {
     "name": "stdout",
     "output_type": "stream",
     "text": [
      "dict_values(['São Paulo', 'São Paulo', 1500, 15, 'Brasil', '25/01/1554'])\n"
     ]
    }
   ],
   "source": [
    "print(dados_cidade.values()) #retorna uma lista de valores de um dicionário"
   ]
  },
  {
   "cell_type": "code",
   "execution_count": 92,
   "id": "e7fc6e58",
   "metadata": {},
   "outputs": [
    {
     "name": "stdout",
     "output_type": "stream",
     "text": [
      "dict_items([('nome', 'São Paulo'), ('estado', 'São Paulo'), ('area_km2', 1500), ('populacao_milhoes', 15), ('país', 'Brasil'), ('fundacao', '25/01/1554')])\n"
     ]
    }
   ],
   "source": [
    "print(dados_cidade.items()) #retorna uma lista de tuplas (chave, valor) de um dicionário"
   ]
  },
  {
   "cell_type": "markdown",
   "id": "30fc68e0",
   "metadata": {},
   "source": [
    "# For Loop"
   ]
  },
  {
   "cell_type": "code",
   "execution_count": 95,
   "id": "5f4e9d28",
   "metadata": {},
   "outputs": [
    {
     "name": "stdout",
     "output_type": "stream",
     "text": [
      "São Paulo\n",
      "Londres\n",
      "Tóquio\n",
      "Paris\n"
     ]
    }
   ],
   "source": [
    "nomes_cidades = ['São Paulo', 'Londres', 'Tóquio', 'Paris']\n",
    "for nome in nomes_cidades:\n",
    "    print(nome)"
   ]
  },
  {
   "cell_type": "code",
   "execution_count": 99,
   "id": "e43c4559",
   "metadata": {},
   "outputs": [
    {
     "name": "stdout",
     "output_type": "stream",
     "text": [
      "São Paulo\n",
      "Londres\n",
      "Tóquio\n",
      "Paris\n"
     ]
    }
   ],
   "source": [
    "contador = 0\n",
    "while contador < len(nomes_cidades):\n",
    "    print(nomes_cidades[contador])\n",
    "    contador += 1"
   ]
  },
  {
   "cell_type": "code",
   "execution_count": 101,
   "id": "2fbab4bf",
   "metadata": {},
   "outputs": [
    {
     "name": "stdout",
     "output_type": "stream",
     "text": [
      "['Rio de Janeiro', 'Rio de Janeiro', 'Rio de Janeiro', 'Rio de Janeiro']\n"
     ]
    }
   ],
   "source": [
    "for posicao in range(len(nomes_cidades)):\n",
    "    nomes_cidades[posicao] = 'Rio de Janeiro'\n",
    "print(nomes_cidades)"
   ]
  },
  {
   "cell_type": "markdown",
   "id": "550fadd7",
   "metadata": {},
   "source": [
    "# Funções"
   ]
  },
  {
   "cell_type": "code",
   "execution_count": 102,
   "id": "195be0f4",
   "metadata": {},
   "outputs": [],
   "source": [
    "def hello():\n",
    "    print('Olá, mundo')"
   ]
  },
  {
   "cell_type": "code",
   "execution_count": 103,
   "id": "af7ddf97",
   "metadata": {},
   "outputs": [
    {
     "name": "stdout",
     "output_type": "stream",
     "text": [
      "Olá, mundo\n"
     ]
    }
   ],
   "source": [
    "hello()"
   ]
  },
  {
   "cell_type": "code",
   "execution_count": 105,
   "id": "c41de04a",
   "metadata": {},
   "outputs": [],
   "source": [
    "def calcula_media(valor1, valor2, valor3):\n",
    "    soma = valor1 + valor2 + valor3\n",
    "    media = soma/3\n",
    "    return media"
   ]
  },
  {
   "cell_type": "code",
   "execution_count": 106,
   "id": "33f990a5",
   "metadata": {},
   "outputs": [
    {
     "name": "stdout",
     "output_type": "stream",
     "text": [
      "10.0\n"
     ]
    }
   ],
   "source": [
    "resultado = calcula_media(10, 10, 10)\n",
    "print(resultado)"
   ]
  },
  {
   "cell_type": "code",
   "execution_count": 109,
   "id": "ce828880",
   "metadata": {},
   "outputs": [],
   "source": [
    "def calcula_media(*args):\n",
    "    soma = sum(args)\n",
    "    media = soma/len(args)\n",
    "    return media"
   ]
  },
  {
   "cell_type": "code",
   "execution_count": 110,
   "id": "f1be38e1",
   "metadata": {},
   "outputs": [
    {
     "data": {
      "text/plain": [
       "9.25"
      ]
     },
     "execution_count": 110,
     "metadata": {},
     "output_type": "execute_result"
    }
   ],
   "source": [
    "calcula_media(10, 8, 9, 10)"
   ]
  },
  {
   "cell_type": "code",
   "execution_count": 111,
   "id": "5f433488",
   "metadata": {},
   "outputs": [],
   "source": [
    "def print_info(**kwargs):\n",
    "    print(kwargs, type(kwargs))"
   ]
  },
  {
   "cell_type": "code",
   "execution_count": 113,
   "id": "06a4bc9b",
   "metadata": {},
   "outputs": [
    {
     "name": "stdout",
     "output_type": "stream",
     "text": [
      "{'nome': 'Pietro', 'sobrenome': 'Ribeiro'} <class 'dict'>\n"
     ]
    }
   ],
   "source": [
    "print_info(nome='Pietro', sobrenome='Ribeiro')"
   ]
  },
  {
   "cell_type": "code",
   "execution_count": null,
   "id": "c06375dd",
   "metadata": {},
   "outputs": [],
   "source": []
  }
 ],
 "metadata": {
  "kernelspec": {
   "display_name": "Python 3 (ipykernel)",
   "language": "python",
   "name": "python3"
  },
  "language_info": {
   "codemirror_mode": {
    "name": "ipython",
    "version": 3
   },
   "file_extension": ".py",
   "mimetype": "text/x-python",
   "name": "python",
   "nbconvert_exporter": "python",
   "pygments_lexer": "ipython3",
   "version": "3.9.12"
  }
 },
 "nbformat": 4,
 "nbformat_minor": 5
}

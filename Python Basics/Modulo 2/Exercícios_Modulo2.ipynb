{
 "cells": [
  {
   "cell_type": "markdown",
   "id": "a6a7c950",
   "metadata": {},
   "source": [
    "# Exercícios Módulo 2 - Python"
   ]
  },
  {
   "cell_type": "markdown",
   "id": "4f937651",
   "metadata": {},
   "source": [
    "**1 - Faça um programa que olhe todos os itens de uma lista e diga quantos deles\n",
    "são pares.**"
   ]
  },
  {
   "cell_type": "code",
   "execution_count": 53,
   "id": "9dfb0068",
   "metadata": {},
   "outputs": [
    {
     "name": "stdout",
     "output_type": "stream",
     "text": [
      " Item 0\n",
      " Item 1\n",
      " Item 2\n",
      " Item 3\n",
      " Item 4\n",
      " Item 5\n",
      " Item 6\n",
      " Item 7\n",
      " Item 8\n",
      " Item 9\n",
      " Item 10\n",
      "\n",
      " A quantidade de números pares são 5\n",
      "\n",
      " [2, 4, 6, 8, 10]\n"
     ]
    }
   ],
   "source": [
    "lista = [i for i in range(11)]\n",
    "lista2 = []\n",
    "for i in lista[0::2]:\n",
    "    lista2.append(i)\n",
    "for j in lista:\n",
    "    print(' Item', j)\n",
    "lista2.pop(0)\n",
    "print(\"\\n\", 'A quantidade de números pares são', len(lista2))\n",
    "print(\"\\n\", lista2)"
   ]
  },
  {
   "cell_type": "markdown",
   "id": "4360f2d2",
   "metadata": {},
   "source": [
    "**2 - Faça um programa que peça para o usuário digitar uma palavra e imprima\n",
    "cada letra em uma linha.**"
   ]
  },
  {
   "cell_type": "code",
   "execution_count": 54,
   "id": "ba58eef2",
   "metadata": {},
   "outputs": [
    {
     "name": "stdout",
     "output_type": "stream",
     "text": [
      "Digite uma palavra: ola\n",
      "o\n",
      "l\n",
      "a\n"
     ]
    }
   ],
   "source": [
    "palavra = input('Digite uma palavra: ')\n",
    "for i in palavra:\n",
    "    print(i)\n"
   ]
  },
  {
   "cell_type": "markdown",
   "id": "e5fb0c5e",
   "metadata": {},
   "source": [
    "**3 - Faça uma função que recebe duas listas e retorna a soma item a item dessas\n",
    "listas.\n",
    "Exemplo: Se a função receber as listas [1,4,3] e [3,5,1], então a função deve\n",
    "retornar [1+3, 4+5, 3+1] = [4, 9, 4].**"
   ]
  },
  {
   "cell_type": "code",
   "execution_count": 72,
   "id": "01da5e94",
   "metadata": {},
   "outputs": [],
   "source": [
    "lista01 = [i for i in range(5)]\n",
    "lista02 = [j for j in range(5)]\n",
    "\n",
    "lista03 = [a + b for a, b in zip(lista01, lista02)]"
   ]
  },
  {
   "cell_type": "markdown",
   "id": "36049571",
   "metadata": {},
   "source": [
    "**4 - Crie um dicionário cujas chaves são os meses do ano e os valores são a\n",
    "duração (em dias) de cada mês.**"
   ]
  },
  {
   "cell_type": "code",
   "execution_count": 84,
   "id": "6f270ff9",
   "metadata": {},
   "outputs": [
    {
     "name": "stdout",
     "output_type": "stream",
     "text": [
      "dict_items([('Janeiro', 31), ('Fevereiro', 28), ('Março', 31), ('Abril', 30), ('Maio', 31), ('Junho', 30), ('Julho', 31), ('Agosto', 31), ('Setembro', 30), ('Outubro', 31), ('Novembro', 30), ('Dezembro', 31)])\n"
     ]
    }
   ],
   "source": [
    "dicionario = {\n",
    "    'Janeiro': 31,\n",
    "    'Fevereiro': 28,\n",
    "    'Março': 31,\n",
    "    'Abril': 30,\n",
    "    'Maio': 31,\n",
    "    'Junho': 30,\n",
    "    'Julho': 31,\n",
    "    'Agosto': 31,\n",
    "    'Setembro': 30,\n",
    "    'Outubro': 31,\n",
    "    'Novembro': 30,\n",
    "    'Dezembro': 31\n",
    "}\n",
    "print(dicionario.items())"
   ]
  },
  {
   "cell_type": "markdown",
   "id": "66aa4d52",
   "metadata": {},
   "source": [
    "**5 - Imprima as chaves seguidas dos seus valores para dicionário criado no\n",
    "exercício anterior.\n",
    "Exemplo:\n",
    "Janeiro - 31\n",
    "Fevereiro - 28\n",
    "Março - 31\n",
    "Etc...**"
   ]
  },
  {
   "cell_type": "code",
   "execution_count": 85,
   "id": "aec7b64a",
   "metadata": {},
   "outputs": [
    {
     "name": "stdout",
     "output_type": "stream",
     "text": [
      "dict_items([('Janeiro', 31), ('Fevereiro', 28), ('Março', 31), ('Abril', 30), ('Maio', 31), ('Junho', 30), ('Julho', 31), ('Agosto', 31), ('Setembro', 30), ('Outubro', 31), ('Novembro', 30), ('Dezembro', 31)])\n"
     ]
    }
   ],
   "source": [
    "print(dicionario.items())"
   ]
  },
  {
   "cell_type": "code",
   "execution_count": 101,
   "id": "054fd6c0",
   "metadata": {},
   "outputs": [
    {
     "name": "stdout",
     "output_type": "stream",
     "text": [
      "Digite o nome do mês para saber a quantidade de dias que ele possúijaneiro\n",
      "31\n"
     ]
    }
   ],
   "source": [
    "entrada = input('Digite o nome do mês para saber a quantidade de dias que ele possúi')\n",
    "entrada = entrada.strip()\n",
    "print(dicionario[entrada.title()])"
   ]
  },
  {
   "cell_type": "code",
   "execution_count": null,
   "id": "9531208c",
   "metadata": {},
   "outputs": [],
   "source": []
  }
 ],
 "metadata": {
  "kernelspec": {
   "display_name": "Python 3 (ipykernel)",
   "language": "python",
   "name": "python3"
  },
  "language_info": {
   "codemirror_mode": {
    "name": "ipython",
    "version": 3
   },
   "file_extension": ".py",
   "mimetype": "text/x-python",
   "name": "python",
   "nbconvert_exporter": "python",
   "pygments_lexer": "ipython3",
   "version": "3.9.12"
  }
 },
 "nbformat": 4,
 "nbformat_minor": 5
}
